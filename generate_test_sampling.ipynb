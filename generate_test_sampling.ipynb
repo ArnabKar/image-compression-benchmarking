{
 "cells": [
  {
   "cell_type": "code",
   "execution_count": 1,
   "metadata": {
    "collapsed": false
   },
   "outputs": [],
   "source": [
    "from PIL import Image\n",
    "from glob import glob\n",
    "import os"
   ]
  },
  {
   "cell_type": "code",
   "execution_count": 2,
   "metadata": {
    "collapsed": true
   },
   "outputs": [],
   "source": [
    "def log_progress(sequence, every=None, size=None):\n",
    "    from ipywidgets import IntProgress, HTML, VBox\n",
    "    from IPython.display import display\n",
    "\n",
    "    is_iterator = False\n",
    "    if size is None:\n",
    "        try:\n",
    "            size = len(sequence)\n",
    "        except TypeError:\n",
    "            is_iterator = True\n",
    "    if size is not None:\n",
    "        if every is None:\n",
    "            if size <= 200:\n",
    "                every = 1\n",
    "            else:\n",
    "                every = size / 200     # every 0.5%\n",
    "    else:\n",
    "        assert every is not None, 'sequence is iterator, set every'\n",
    "\n",
    "    if is_iterator:\n",
    "        progress = IntProgress(min=0, max=1, value=1)\n",
    "        progress.bar_style = 'info'\n",
    "    else:\n",
    "        progress = IntProgress(min=0, max=size, value=0)\n",
    "    label = HTML()\n",
    "    box = VBox(children=[label, progress])\n",
    "    display(box)\n",
    "\n",
    "    index = 0\n",
    "    try:\n",
    "        for index, record in enumerate(sequence, 1):\n",
    "            if index == 1 or index % every == 0:\n",
    "                if is_iterator:\n",
    "                    label.value = '{index} / ?'.format(index=index)\n",
    "                else:\n",
    "                    progress.value = index\n",
    "                    label.value = u'{index} / {size}'.format(\n",
    "                        index=index,\n",
    "                        size=size\n",
    "                    )\n",
    "            yield record\n",
    "    except:\n",
    "        progress.bar_style = 'danger'\n",
    "        raise\n",
    "    else:\n",
    "        progress.bar_style = 'success'\n",
    "        progress.value = index\n",
    "        label.value = str(index or '?')"
   ]
  },
  {
   "cell_type": "code",
   "execution_count": 3,
   "metadata": {
    "collapsed": true
   },
   "outputs": [],
   "source": [
    "DATA_DIR = './examples/'\n",
    "OUT_DIR = './test_images'\n",
    "DATA_TMPL = '*'\n",
    "MIN_BLOCK_SIZE = 5"
   ]
  },
  {
   "cell_type": "code",
   "execution_count": 4,
   "metadata": {
    "collapsed": true
   },
   "outputs": [],
   "source": [
    "class codec(object):\n",
    "    \n",
    "    def __init__(self, codec, params):\n",
    "        self.codec = codec\n",
    "        self.params = params"
   ]
  },
  {
   "cell_type": "code",
   "execution_count": 5,
   "metadata": {
    "collapsed": false
   },
   "outputs": [],
   "source": [
    "out_fromats = [\n",
    "    {'format': 'jpeg', 'params': {'quality': 20}},\n",
    "    {'format': 'jpeg', 'params': {'quality': 40}},\n",
    "    {'format': 'jpeg', 'params': {'quality': 60}},\n",
    "    {'format': 'jpeg', 'params': {'quality': 80}},\n",
    "    {'format': 'jpeg', 'params': {'optimize': True}},\n",
    "    {'format':  'png', 'params': {'compress_level': 2}},\n",
    "    {'format':  'png', 'params': {'compress_level': 4}},\n",
    "    {'format':  'png', 'params': {'compress_level': 6}},\n",
    "    {'format':  'png', 'params': {'compress_level': 8}},\n",
    "    {'format':  'png', 'params': {'optimize': True}},\n",
    "    {'format': 'webp', 'params': {'quality': 20}},\n",
    "    {'format': 'webp', 'params': {'quality': 40}},\n",
    "    {'format': 'webp', 'params': {'quality': 60}},\n",
    "    {'format': 'webp', 'params': {'quality': 80}},\n",
    "    {'format': 'webp', 'params': {'lossless': True}}\n",
    "]"
   ]
  },
  {
   "cell_type": "code",
   "execution_count": 6,
   "metadata": {
    "collapsed": false
   },
   "outputs": [],
   "source": [
    "img_files = sorted(glob(os.path.join(DATA_DIR, DATA_TMPL)))"
   ]
  },
  {
   "cell_type": "code",
   "execution_count": null,
   "metadata": {
    "collapsed": false
   },
   "outputs": [
    {
     "name": "stdout",
     "output_type": "stream",
     "text": [
      "PNG, RGB, (490, 733)\n",
      "PNG, RGB, (1118, 1105)\n",
      "PNG, RGB, (768, 512)\n",
      "PNG, RGB, (512, 512)\n",
      "PNG, RGB, (1024, 768)\n"
     ]
    }
   ],
   "source": [
    "if not os.path.exists(OUT_DIR):\n",
    "    os.makedirs(OUT_DIR)\n",
    "\n",
    "for img_file in log_progress(img_files[:]):\n",
    "    img = Image.open(img_file)\n",
    "    print '{}, {}, {}'.format(img.format, img.mode, img.size)\n",
    "    height_mp = int(round(img.height / 32.0))\n",
    "    width_mp = int(round(img.width / 32.0))\n",
    "    w_add = h_add = 0\n",
    "    if width_mp > height_mp:\n",
    "        w_add = width_mp - height_mp\n",
    "    else:\n",
    "        h_add = height_mp - width_mp\n",
    "    for mp in range(MIN_BLOCK_SIZE, min(height_mp, width_mp) + 1):\n",
    "        img_res = img.resize((32 * (mp + w_add), 32 * (mp + h_add)))\n",
    "        for out_frm in out_fromats:\n",
    "            out_name = '{}_size={}x{},codec={}'.format(os.path.basename(img_file).rsplit('.')[0],\n",
    "                                                       img_res.width, img_res.height, out_frm['format'])\n",
    "            for p, v in out_frm['params'].iteritems():\n",
    "                out_name += ',{}={}'.format(p, v)\n",
    "            img_res.save(os.path.join(OUT_DIR, out_name), format=out_frm['format'], **out_frm['params'])\n",
    "        out_name = '{}_size={}x{}_orig'.format(os.path.basename(img_file).rsplit('.')[0], img_res.width,\n",
    "                                               img_res.height)\n",
    "        img_res.save(os.path.join(OUT_DIR, out_name), format='png', compress_level=0)\n",
    "#         break\n",
    "#     break"
   ]
  },
  {
   "cell_type": "code",
   "execution_count": null,
   "metadata": {
    "collapsed": true
   },
   "outputs": [],
   "source": []
  }
 ],
 "metadata": {
  "kernelspec": {
   "display_name": "Python 2",
   "language": "python",
   "name": "python2"
  },
  "language_info": {
   "codemirror_mode": {
    "name": "ipython",
    "version": 2
   },
   "file_extension": ".py",
   "mimetype": "text/x-python",
   "name": "python",
   "nbconvert_exporter": "python",
   "pygments_lexer": "ipython2",
   "version": "2.7.12"
  },
  "widgets": {
   "state": {
    "22a7449da9a54356838f075a74c06f9e": {
     "views": []
    },
    "2d815e5998ca4822b1efcc298a0451cf": {
     "views": []
    },
    "2feb86cb7027464d9bbda15bdcd2293f": {
     "views": []
    },
    "3463613df0924d1b8e0c1ab90ab8bed1": {
     "views": []
    },
    "3507e3b387c649e4a8254a897fb28410": {
     "views": []
    },
    "41a5c8e0356342aea7d52072b318661a": {
     "views": []
    },
    "4792115a75574592aaf9af721dcea02c": {
     "views": []
    },
    "4e3d5ba0b5c04cff9a7b2b4a1362ad2c": {
     "views": []
    },
    "55358785bd6d4ae4bff7d70fddb323c3": {
     "views": [
      {
       "cell_index": 6
      }
     ]
    },
    "5ab0455d275b49d89a2e0c8842ac2c3a": {
     "views": []
    },
    "6ea5320020cc45f5963a31de9281ad93": {
     "views": []
    },
    "8154fb93ec324886b14e8be39d43e027": {
     "views": []
    },
    "83ebe20f18024ecf8a7dcbd2c8215d6d": {
     "views": []
    },
    "8ea1f6cf3d1f428bab9d32c9da967234": {
     "views": []
    },
    "a24100ba782d4cb193b6c74eac4ade85": {
     "views": []
    },
    "a999934fbff3463f896580d6893319c1": {
     "views": []
    },
    "bd5d4e2443ed4abfb434646b939f30bc": {
     "views": []
    },
    "c0ade0ab539b4221adb9422b24e3417d": {
     "views": []
    },
    "cf133d5319d64dbe8c56ae35ba24b6a4": {
     "views": []
    },
    "d39b2ebec4774ac48a7b5af00dc016ef": {
     "views": []
    },
    "def643cd452e418eb865e788fdc50a67": {
     "views": []
    },
    "e32d4fea954b4bbeaba93676d87ea629": {
     "views": []
    },
    "f8b31e98602e46d8ae0402bf389b7aa1": {
     "views": []
    },
    "ff8e7ce69aa14d2ca95c71485ff97ae6": {
     "views": []
    }
   },
   "version": "1.1.1"
  }
 },
 "nbformat": 4,
 "nbformat_minor": 1
}
